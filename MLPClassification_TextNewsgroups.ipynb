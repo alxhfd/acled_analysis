{
 "cells": [
  {
   "cell_type": "code",
   "execution_count": 1,
   "id": "93cb23f8",
   "metadata": {
    "_cell_guid": "b1076dfc-b9ad-4769-8c92-a6c4dae69d19",
    "_uuid": "8f2839f25d086af736a60e9eeb907d3b93b6e0e5",
    "execution": {
     "iopub.execute_input": "2025-02-03T16:02:57.637581Z",
     "iopub.status.busy": "2025-02-03T16:02:57.637076Z",
     "iopub.status.idle": "2025-02-03T16:02:58.667870Z",
     "shell.execute_reply": "2025-02-03T16:02:58.666671Z"
    },
    "papermill": {
     "duration": 1.036884,
     "end_time": "2025-02-03T16:02:58.670130",
     "exception": false,
     "start_time": "2025-02-03T16:02:57.633246",
     "status": "completed"
    },
    "tags": []
   },
   "outputs": [],
   "source": [
    "# This Python 3 environment comes with many helpful analytics libraries installed\n",
    "# It is defined by the kaggle/python Docker image: https://github.com/kaggle/docker-python\n",
    "# For example, here's several helpful packages to load\n",
    "\n",
    "import numpy as np # linear algebra\n",
    "import pandas as pd # data processing, CSV file I/O (e.g. pd.read_csv)\n",
    "\n",
    "# Input data files are available in the read-only \"../input/\" directory\n",
    "# For example, running this (by clicking run or pressing Shift+Enter) will list all files under the input directory\n",
    "\n",
    "import os\n",
    "for dirname, _, filenames in os.walk('/kaggle/input'):\n",
    "    for filename in filenames:\n",
    "        print(os.path.join(dirname, filename))\n",
    "\n",
    "# You can write up to 20GB to the current directory (/kaggle/working/) that gets preserved as output when you create a version using \"Save & Run All\" \n",
    "# You can also write temporary files to /kaggle/temp/, but they won't be saved outside of the current session"
   ]
  },
  {
   "cell_type": "code",
   "execution_count": 2,
   "id": "9b622ff6",
   "metadata": {
    "execution": {
     "iopub.execute_input": "2025-02-03T16:02:58.676265Z",
     "iopub.status.busy": "2025-02-03T16:02:58.675784Z",
     "iopub.status.idle": "2025-02-03T16:03:16.542719Z",
     "shell.execute_reply": "2025-02-03T16:03:16.541298Z"
    },
    "papermill": {
     "duration": 17.872098,
     "end_time": "2025-02-03T16:03:16.545002",
     "exception": false,
     "start_time": "2025-02-03T16:02:58.672904",
     "status": "completed"
    },
    "tags": []
   },
   "outputs": [],
   "source": [
    "import sklearn\n",
    "from sklearn import preprocessing\n",
    "from sklearn import metrics\n",
    "from sklearn.model_selection import train_test_split, GridSearchCV, ParameterGrid\n",
    "from sklearn.metrics import accuracy_score, precision_score, recall_score, r2_score, classification_report, confusion_matrix\n",
    "\n",
    "from sklearn.linear_model import LogisticRegression, SGDClassifier, LinearRegression, Lasso, Ridge, ElasticNet, Lars, SGDRegressor\n",
    "from sklearn.discriminant_analysis import LinearDiscriminantAnalysis, QuadraticDiscriminantAnalysis\n",
    "from sklearn.svm import LinearSVC, SVR\n",
    "from sklearn.neighbors import RadiusNeighborsClassifier, KNeighborsRegressor\n",
    "from sklearn.naive_bayes import GaussianNB\n",
    "from sklearn.tree import DecisionTreeClassifier, DecisionTreeRegressor\n",
    "from sklearn.cluster import KMeans, AgglomerativeClustering, DBSCAN, MeanShift, Birch, AffinityPropagation, MiniBatchKMeans, SpectralBiclustering, estimate_bandwidth\n",
    "from sklearn.neural_network import MLPRegressor, MLPClassifier\n",
    "\n",
    "import pandas as pd\n",
    "import numpy as np\n",
    "import matplotlib.pyplot as plt\n",
    "import seaborn as sns\n",
    "\n",
    "from functools import partial\n",
    "\n",
    "import random\n",
    "import datetime\n",
    "\n",
    "from sklearn.datasets import fetch_20newsgroups\n",
    "from sklearn.feature_extraction.text import TfidfVectorizer\n",
    "\n",
    "newsgroups_data = fetch_20newsgroups()\n",
    "\n",
    "\n",
    "newsgroups_data.keys()\n",
    "\n",
    "tfidf_vect = TfidfVectorizer(stop_words='english')\n",
    "\n",
    "newsgroups_data_transformed = tfidf_vect.fit_transform(newsgroups_data.data)"
   ]
  },
  {
   "cell_type": "code",
   "execution_count": 3,
   "id": "037081df",
   "metadata": {
    "execution": {
     "iopub.execute_input": "2025-02-03T16:03:16.550868Z",
     "iopub.status.busy": "2025-02-03T16:03:16.550427Z",
     "iopub.status.idle": "2025-02-03T16:07:31.661634Z",
     "shell.execute_reply": "2025-02-03T16:07:31.660261Z"
    },
    "papermill": {
     "duration": 255.116481,
     "end_time": "2025-02-03T16:07:31.663818",
     "exception": false,
     "start_time": "2025-02-03T16:03:16.547337",
     "status": "completed"
    },
    "tags": []
   },
   "outputs": [
    {
     "name": "stdout",
     "output_type": "stream",
     "text": [
      "Iteration 1, loss = 2.92033607\n",
      "Iteration 2, loss = 2.53845930\n",
      "Iteration 3, loss = 2.01067213\n",
      "Iteration 4, loss = 1.45806094\n",
      "Iteration 5, loss = 1.00525577\n",
      "Iteration 6, loss = 0.68624986\n",
      "Iteration 7, loss = 0.47654549\n",
      "Iteration 8, loss = 0.34102359\n",
      "Iteration 9, loss = 0.25135883\n",
      "Iteration 10, loss = 0.19090635\n",
      "Iteration 11, loss = 0.14873089\n",
      "Iteration 12, loss = 0.11870725\n",
      "Iteration 13, loss = 0.09664821\n",
      "Iteration 14, loss = 0.08021565\n",
      "Iteration 15, loss = 0.06763120\n",
      "Iteration 16, loss = 0.05790115\n",
      "Iteration 17, loss = 0.05024626\n",
      "Iteration 18, loss = 0.04406526\n",
      "Iteration 19, loss = 0.03917303\n",
      "Iteration 20, loss = 0.03502953\n",
      "Iteration 21, loss = 0.03168513\n",
      "Iteration 22, loss = 0.02878946\n",
      "Iteration 23, loss = 0.02638072\n",
      "Iteration 24, loss = 0.02430526\n",
      "Iteration 25, loss = 0.02257369\n",
      "Iteration 26, loss = 0.02105788\n",
      "Iteration 27, loss = 0.01971651\n",
      "Iteration 28, loss = 0.01853221\n",
      "Iteration 29, loss = 0.01748776\n",
      "Iteration 30, loss = 0.01657395\n",
      "Iteration 31, loss = 0.01576535\n",
      "Iteration 32, loss = 0.01500796\n",
      "Iteration 33, loss = 0.01441925\n",
      "Iteration 34, loss = 0.01379498\n",
      "Iteration 35, loss = 0.01326658\n",
      "Iteration 36, loss = 0.01279035\n",
      "Iteration 37, loss = 0.01234109\n",
      "Iteration 38, loss = 0.01192630\n",
      "Iteration 39, loss = 0.01158841\n",
      "Iteration 40, loss = 0.01123378\n",
      "Iteration 41, loss = 0.01102478\n",
      "Iteration 42, loss = 0.01061246\n",
      "Iteration 43, loss = 0.01033122\n",
      "Iteration 44, loss = 0.01009429\n",
      "Iteration 45, loss = 0.00988078\n",
      "Iteration 46, loss = 0.00962590\n",
      "Iteration 47, loss = 0.00945261\n",
      "Iteration 48, loss = 0.00930655\n",
      "Iteration 49, loss = 0.00911568\n",
      "Iteration 50, loss = 0.00895308\n"
     ]
    },
    {
     "name": "stderr",
     "output_type": "stream",
     "text": [
      "/usr/local/lib/python3.10/dist-packages/sklearn/neural_network/_multilayer_perceptron.py:686: ConvergenceWarning: Stochastic Optimizer: Maximum iterations (50) reached and the optimization hasn't converged yet.\n",
      "  warnings.warn(\n"
     ]
    }
   ],
   "source": [
    "x_train, x_test, y_train, y_test = train_test_split(newsgroups_data_transformed, newsgroups_data.target, shuffle=True, test_size=0.20)\n",
    "\n",
    "mlp_clf = MLPClassifier(\n",
    "    hidden_layer_sizes=(32,),\n",
    "    max_iter=50,\n",
    "    activation='relu',\n",
    "    # alpha=1e-3,\n",
    "    solver='adam',\n",
    "    verbose=True\n",
    ")\n",
    "\n",
    "mlp_clf.fit(x_train, y_train)\n",
    "\n",
    "y_pred = mlp_clf.predict(x_test)"
   ]
  }
 ],
 "metadata": {
  "kaggle": {
   "accelerator": "none",
   "dataSources": [],
   "dockerImageVersionId": 30840,
   "isGpuEnabled": false,
   "isInternetEnabled": true,
   "language": "python",
   "sourceType": "notebook"
  },
  "kernelspec": {
   "display_name": "Python 3",
   "language": "python",
   "name": "python3"
  },
  "language_info": {
   "codemirror_mode": {
    "name": "ipython",
    "version": 3
   },
   "file_extension": ".py",
   "mimetype": "text/x-python",
   "name": "python",
   "nbconvert_exporter": "python",
   "pygments_lexer": "ipython3",
   "version": "3.10.12"
  },
  "papermill": {
   "default_parameters": {},
   "duration": 278.062726,
   "end_time": "2025-02-03T16:07:32.695502",
   "environment_variables": {},
   "exception": null,
   "input_path": "__notebook__.ipynb",
   "output_path": "__notebook__.ipynb",
   "parameters": {},
   "start_time": "2025-02-03T16:02:54.632776",
   "version": "2.6.0"
  }
 },
 "nbformat": 4,
 "nbformat_minor": 5
}
